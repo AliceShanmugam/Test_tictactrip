{
 "cells": [
  {
   "cell_type": "code",
   "execution_count": 1,
   "metadata": {},
   "outputs": [
    {
     "name": "stdout",
     "output_type": "stream",
     "text": [
      "setup complete\n"
     ]
    }
   ],
   "source": [
    "#import des librairies et modules\n",
    "import pandas as pd\n",
    "from math import acos, cos, sin, radians\n",
    "\n",
    "print(\"setup complete\")"
   ]
  },
  {
   "cell_type": "markdown",
   "metadata": {},
   "source": [
    "## 1- Lecture des fichiers"
   ]
  },
  {
   "cell_type": "code",
   "execution_count": 2,
   "metadata": {},
   "outputs": [],
   "source": [
    "ticket_data_filepath = 'https://raw.githubusercontent.com/AliceShanmugam/Test_tictactrip/main/ticket_data.csv'\n",
    "ticket_data = pd.read_csv(ticket_data_filepath)\n",
    "\n",
    "cities_filepath = 'https://raw.githubusercontent.com/AliceShanmugam/Test_tictactrip/main/cities.csv'\n",
    "cities_data = pd.read_csv(cities_filepath)\n",
    "\n",
    "providers_filepath = 'https://raw.githubusercontent.com/AliceShanmugam/Test_tictactrip/main/providers.csv'\n",
    "providers_data = pd.read_csv(providers_filepath)\n",
    "\n",
    "stations_filepath = 'https://raw.githubusercontent.com/AliceShanmugam/Test_tictactrip/main/stations.csv'\n",
    "stations_data = pd.read_csv(stations_filepath)\n"
   ]
  },
  {
   "cell_type": "code",
   "execution_count": 3,
   "metadata": {},
   "outputs": [],
   "source": [
    "#affiche les tarifs en euro pour plus de lisibilité\n",
    "def price_in_euro(row):\n",
    "    row.price_in_cents = 0.01*row.price_in_cents\n",
    "    return row\n",
    "\n",
    "ticket_euro_data = ticket_data.apply(price_in_euro, axis='columns')\n",
    "\n",
    "ticket_euro_data = ticket_euro_data.rename(columns = {'price_in_cents':'price_in_euro'})"
   ]
  },
  {
   "cell_type": "code",
   "execution_count": 4,
   "metadata": {},
   "outputs": [
    {
     "data": {
      "text/html": [
       "<div>\n",
       "<style scoped>\n",
       "    .dataframe tbody tr th:only-of-type {\n",
       "        vertical-align: middle;\n",
       "    }\n",
       "\n",
       "    .dataframe tbody tr th {\n",
       "        vertical-align: top;\n",
       "    }\n",
       "\n",
       "    .dataframe thead th {\n",
       "        text-align: right;\n",
       "    }\n",
       "</style>\n",
       "<table border=\"1\" class=\"dataframe\">\n",
       "  <thead>\n",
       "    <tr style=\"text-align: right;\">\n",
       "      <th></th>\n",
       "      <th>id</th>\n",
       "      <th>company</th>\n",
       "      <th>o_station</th>\n",
       "      <th>d_station</th>\n",
       "      <th>departure_ts</th>\n",
       "      <th>arrival_ts</th>\n",
       "      <th>price_in_euro</th>\n",
       "      <th>search_ts</th>\n",
       "      <th>middle_stations</th>\n",
       "      <th>other_companies</th>\n",
       "      <th>o_city</th>\n",
       "      <th>d_city</th>\n",
       "    </tr>\n",
       "  </thead>\n",
       "  <tbody>\n",
       "    <tr>\n",
       "      <th>0</th>\n",
       "      <td>6795025</td>\n",
       "      <td>8385</td>\n",
       "      <td>NaN</td>\n",
       "      <td>NaN</td>\n",
       "      <td>2017-10-13 14:00:00+00</td>\n",
       "      <td>2017-10-13 20:10:00+00</td>\n",
       "      <td>45.5</td>\n",
       "      <td>2017-10-01 00:13:31.327+00</td>\n",
       "      <td>NaN</td>\n",
       "      <td>NaN</td>\n",
       "      <td>611</td>\n",
       "      <td>542</td>\n",
       "    </tr>\n",
       "    <tr>\n",
       "      <th>1</th>\n",
       "      <td>6795026</td>\n",
       "      <td>9</td>\n",
       "      <td>63.0</td>\n",
       "      <td>1044.0</td>\n",
       "      <td>2017-10-13 13:05:00+00</td>\n",
       "      <td>2017-10-14 06:55:00+00</td>\n",
       "      <td>14.5</td>\n",
       "      <td>2017-10-01 00:13:35.773+00</td>\n",
       "      <td>{149,418}</td>\n",
       "      <td>{13}</td>\n",
       "      <td>611</td>\n",
       "      <td>542</td>\n",
       "    </tr>\n",
       "    <tr>\n",
       "      <th>2</th>\n",
       "      <td>6795027</td>\n",
       "      <td>8377</td>\n",
       "      <td>5905.0</td>\n",
       "      <td>6495.0</td>\n",
       "      <td>2017-10-13 13:27:00+00</td>\n",
       "      <td>2017-10-14 21:24:00+00</td>\n",
       "      <td>74.0</td>\n",
       "      <td>2017-10-01 00:13:40.212+00</td>\n",
       "      <td>{798,798,6794,6246}</td>\n",
       "      <td>{8377,8376}</td>\n",
       "      <td>611</td>\n",
       "      <td>542</td>\n",
       "    </tr>\n",
       "    <tr>\n",
       "      <th>3</th>\n",
       "      <td>6795028</td>\n",
       "      <td>8377</td>\n",
       "      <td>5905.0</td>\n",
       "      <td>6495.0</td>\n",
       "      <td>2017-10-13 13:27:00+00</td>\n",
       "      <td>2017-10-14 11:02:00+00</td>\n",
       "      <td>135.0</td>\n",
       "      <td>2017-10-01 00:13:40.213+00</td>\n",
       "      <td>{798,798,6794,6246}</td>\n",
       "      <td>{8377,8376}</td>\n",
       "      <td>611</td>\n",
       "      <td>542</td>\n",
       "    </tr>\n",
       "    <tr>\n",
       "      <th>4</th>\n",
       "      <td>6795029</td>\n",
       "      <td>8381</td>\n",
       "      <td>5905.0</td>\n",
       "      <td>6495.0</td>\n",
       "      <td>2017-10-13 21:46:00+00</td>\n",
       "      <td>2017-10-14 19:32:00+00</td>\n",
       "      <td>77.1</td>\n",
       "      <td>2017-10-01 00:13:40.213+00</td>\n",
       "      <td>{5983,5983}</td>\n",
       "      <td>{8380}</td>\n",
       "      <td>611</td>\n",
       "      <td>542</td>\n",
       "    </tr>\n",
       "  </tbody>\n",
       "</table>\n",
       "</div>"
      ],
      "text/plain": [
       "        id  company  o_station  d_station            departure_ts  \\\n",
       "0  6795025     8385        NaN        NaN  2017-10-13 14:00:00+00   \n",
       "1  6795026        9       63.0     1044.0  2017-10-13 13:05:00+00   \n",
       "2  6795027     8377     5905.0     6495.0  2017-10-13 13:27:00+00   \n",
       "3  6795028     8377     5905.0     6495.0  2017-10-13 13:27:00+00   \n",
       "4  6795029     8381     5905.0     6495.0  2017-10-13 21:46:00+00   \n",
       "\n",
       "               arrival_ts  price_in_euro                   search_ts  \\\n",
       "0  2017-10-13 20:10:00+00           45.5  2017-10-01 00:13:31.327+00   \n",
       "1  2017-10-14 06:55:00+00           14.5  2017-10-01 00:13:35.773+00   \n",
       "2  2017-10-14 21:24:00+00           74.0  2017-10-01 00:13:40.212+00   \n",
       "3  2017-10-14 11:02:00+00          135.0  2017-10-01 00:13:40.213+00   \n",
       "4  2017-10-14 19:32:00+00           77.1  2017-10-01 00:13:40.213+00   \n",
       "\n",
       "       middle_stations other_companies  o_city  d_city  \n",
       "0                  NaN             NaN     611     542  \n",
       "1            {149,418}            {13}     611     542  \n",
       "2  {798,798,6794,6246}     {8377,8376}     611     542  \n",
       "3  {798,798,6794,6246}     {8377,8376}     611     542  \n",
       "4          {5983,5983}          {8380}     611     542  "
      ]
     },
     "execution_count": 4,
     "metadata": {},
     "output_type": "execute_result"
    }
   ],
   "source": [
    "ticket_euro_data.head()"
   ]
  },
  {
   "cell_type": "code",
   "execution_count": 5,
   "metadata": {},
   "outputs": [
    {
     "data": {
      "text/html": [
       "<div>\n",
       "<style scoped>\n",
       "    .dataframe tbody tr th:only-of-type {\n",
       "        vertical-align: middle;\n",
       "    }\n",
       "\n",
       "    .dataframe tbody tr th {\n",
       "        vertical-align: top;\n",
       "    }\n",
       "\n",
       "    .dataframe thead th {\n",
       "        text-align: right;\n",
       "    }\n",
       "</style>\n",
       "<table border=\"1\" class=\"dataframe\">\n",
       "  <thead>\n",
       "    <tr style=\"text-align: right;\">\n",
       "      <th></th>\n",
       "      <th>id</th>\n",
       "      <th>local_name</th>\n",
       "      <th>unique_name</th>\n",
       "      <th>latitude</th>\n",
       "      <th>longitude</th>\n",
       "      <th>population</th>\n",
       "    </tr>\n",
       "  </thead>\n",
       "  <tbody>\n",
       "    <tr>\n",
       "      <th>0</th>\n",
       "      <td>5159</td>\n",
       "      <td>Padua, Veneto, Italia</td>\n",
       "      <td>padua</td>\n",
       "      <td>45.406435</td>\n",
       "      <td>11.876761</td>\n",
       "      <td>209678.0</td>\n",
       "    </tr>\n",
       "    <tr>\n",
       "      <th>1</th>\n",
       "      <td>76</td>\n",
       "      <td>Barcelona, Cataluña, España</td>\n",
       "      <td>barcelona</td>\n",
       "      <td>41.385064</td>\n",
       "      <td>2.173404</td>\n",
       "      <td>1611822.0</td>\n",
       "    </tr>\n",
       "    <tr>\n",
       "      <th>2</th>\n",
       "      <td>81</td>\n",
       "      <td>Basel, Basel-Stadt, Schweiz</td>\n",
       "      <td>basel</td>\n",
       "      <td>47.593437</td>\n",
       "      <td>7.619812</td>\n",
       "      <td>NaN</td>\n",
       "    </tr>\n",
       "    <tr>\n",
       "      <th>3</th>\n",
       "      <td>259</td>\n",
       "      <td>Erlangen, Bayern, Deutschland</td>\n",
       "      <td>erlangen</td>\n",
       "      <td>49.589674</td>\n",
       "      <td>11.011961</td>\n",
       "      <td>105412.0</td>\n",
       "    </tr>\n",
       "    <tr>\n",
       "      <th>4</th>\n",
       "      <td>11979</td>\n",
       "      <td>Balș, Olt, România</td>\n",
       "      <td>balș</td>\n",
       "      <td>44.353354</td>\n",
       "      <td>24.095672</td>\n",
       "      <td>NaN</td>\n",
       "    </tr>\n",
       "  </tbody>\n",
       "</table>\n",
       "</div>"
      ],
      "text/plain": [
       "      id                     local_name unique_name   latitude  longitude  \\\n",
       "0   5159          Padua, Veneto, Italia       padua  45.406435  11.876761   \n",
       "1     76    Barcelona, Cataluña, España   barcelona  41.385064   2.173404   \n",
       "2     81    Basel, Basel-Stadt, Schweiz       basel  47.593437   7.619812   \n",
       "3    259  Erlangen, Bayern, Deutschland    erlangen  49.589674  11.011961   \n",
       "4  11979             Balș, Olt, România        balș  44.353354  24.095672   \n",
       "\n",
       "   population  \n",
       "0    209678.0  \n",
       "1   1611822.0  \n",
       "2         NaN  \n",
       "3    105412.0  \n",
       "4         NaN  "
      ]
     },
     "execution_count": 5,
     "metadata": {},
     "output_type": "execute_result"
    }
   ],
   "source": [
    "cities_data.head()"
   ]
  },
  {
   "cell_type": "code",
   "execution_count": 6,
   "metadata": {
    "scrolled": true
   },
   "outputs": [
    {
     "data": {
      "text/html": [
       "<div>\n",
       "<style scoped>\n",
       "    .dataframe tbody tr th:only-of-type {\n",
       "        vertical-align: middle;\n",
       "    }\n",
       "\n",
       "    .dataframe tbody tr th {\n",
       "        vertical-align: top;\n",
       "    }\n",
       "\n",
       "    .dataframe thead th {\n",
       "        text-align: right;\n",
       "    }\n",
       "</style>\n",
       "<table border=\"1\" class=\"dataframe\">\n",
       "  <thead>\n",
       "    <tr style=\"text-align: right;\">\n",
       "      <th></th>\n",
       "      <th>id</th>\n",
       "      <th>company_id</th>\n",
       "      <th>provider_id</th>\n",
       "      <th>name</th>\n",
       "      <th>fullname</th>\n",
       "      <th>has_wifi</th>\n",
       "      <th>has_plug</th>\n",
       "      <th>has_adjustable_seats</th>\n",
       "      <th>has_bicycle</th>\n",
       "      <th>transport_type</th>\n",
       "    </tr>\n",
       "  </thead>\n",
       "  <tbody>\n",
       "    <tr>\n",
       "      <th>0</th>\n",
       "      <td>9</td>\n",
       "      <td>1</td>\n",
       "      <td>NaN</td>\n",
       "      <td>ouibus</td>\n",
       "      <td>Ouibus</td>\n",
       "      <td>True</td>\n",
       "      <td>True</td>\n",
       "      <td>True</td>\n",
       "      <td>False</td>\n",
       "      <td>bus</td>\n",
       "    </tr>\n",
       "    <tr>\n",
       "      <th>1</th>\n",
       "      <td>10</td>\n",
       "      <td>2</td>\n",
       "      <td>NaN</td>\n",
       "      <td>deinbus</td>\n",
       "      <td>Deinbus.de</td>\n",
       "      <td>False</td>\n",
       "      <td>False</td>\n",
       "      <td>False</td>\n",
       "      <td>False</td>\n",
       "      <td>bus</td>\n",
       "    </tr>\n",
       "    <tr>\n",
       "      <th>2</th>\n",
       "      <td>11</td>\n",
       "      <td>3</td>\n",
       "      <td>NaN</td>\n",
       "      <td>infobus</td>\n",
       "      <td>Infobus</td>\n",
       "      <td>False</td>\n",
       "      <td>False</td>\n",
       "      <td>False</td>\n",
       "      <td>False</td>\n",
       "      <td>bus</td>\n",
       "    </tr>\n",
       "    <tr>\n",
       "      <th>3</th>\n",
       "      <td>12</td>\n",
       "      <td>4</td>\n",
       "      <td>NaN</td>\n",
       "      <td>studentAgency</td>\n",
       "      <td>Student Agency</td>\n",
       "      <td>False</td>\n",
       "      <td>False</td>\n",
       "      <td>False</td>\n",
       "      <td>False</td>\n",
       "      <td>bus</td>\n",
       "    </tr>\n",
       "    <tr>\n",
       "      <th>4</th>\n",
       "      <td>13</td>\n",
       "      <td>5</td>\n",
       "      <td>NaN</td>\n",
       "      <td>flixbus</td>\n",
       "      <td>Flixbus</td>\n",
       "      <td>True</td>\n",
       "      <td>False</td>\n",
       "      <td>False</td>\n",
       "      <td>False</td>\n",
       "      <td>bus</td>\n",
       "    </tr>\n",
       "  </tbody>\n",
       "</table>\n",
       "</div>"
      ],
      "text/plain": [
       "   id  company_id provider_id           name        fullname has_wifi  \\\n",
       "0   9           1         NaN         ouibus          Ouibus     True   \n",
       "1  10           2         NaN        deinbus      Deinbus.de    False   \n",
       "2  11           3         NaN        infobus         Infobus    False   \n",
       "3  12           4         NaN  studentAgency  Student Agency    False   \n",
       "4  13           5         NaN        flixbus         Flixbus     True   \n",
       "\n",
       "  has_plug has_adjustable_seats has_bicycle transport_type  \n",
       "0     True                 True       False            bus  \n",
       "1    False                False       False            bus  \n",
       "2    False                False       False            bus  \n",
       "3    False                False       False            bus  \n",
       "4    False                False       False            bus  "
      ]
     },
     "execution_count": 6,
     "metadata": {},
     "output_type": "execute_result"
    }
   ],
   "source": [
    "providers_data.head()"
   ]
  },
  {
   "cell_type": "code",
   "execution_count": 7,
   "metadata": {},
   "outputs": [
    {
     "data": {
      "text/html": [
       "<div>\n",
       "<style scoped>\n",
       "    .dataframe tbody tr th:only-of-type {\n",
       "        vertical-align: middle;\n",
       "    }\n",
       "\n",
       "    .dataframe tbody tr th {\n",
       "        vertical-align: top;\n",
       "    }\n",
       "\n",
       "    .dataframe thead th {\n",
       "        text-align: right;\n",
       "    }\n",
       "</style>\n",
       "<table border=\"1\" class=\"dataframe\">\n",
       "  <thead>\n",
       "    <tr style=\"text-align: right;\">\n",
       "      <th></th>\n",
       "      <th>id</th>\n",
       "      <th>unique_name</th>\n",
       "      <th>latitude</th>\n",
       "      <th>longitude</th>\n",
       "    </tr>\n",
       "  </thead>\n",
       "  <tbody>\n",
       "    <tr>\n",
       "      <th>11030</th>\n",
       "      <td>11032</td>\n",
       "      <td>Porto Avda De Los Aliados</td>\n",
       "      <td>41.146922</td>\n",
       "      <td>-8.611122</td>\n",
       "    </tr>\n",
       "    <tr>\n",
       "      <th>11031</th>\n",
       "      <td>11033</td>\n",
       "      <td>Rom Ciampino Flughafen Piazzale Leonardo da Vinci</td>\n",
       "      <td>41.804102</td>\n",
       "      <td>12.597110</td>\n",
       "    </tr>\n",
       "    <tr>\n",
       "      <th>11032</th>\n",
       "      <td>11034</td>\n",
       "      <td>Sants</td>\n",
       "      <td>41.379892</td>\n",
       "      <td>2.139462</td>\n",
       "    </tr>\n",
       "    <tr>\n",
       "      <th>11033</th>\n",
       "      <td>11035</td>\n",
       "      <td>Vozilici D66</td>\n",
       "      <td>45.157136</td>\n",
       "      <td>14.164140</td>\n",
       "    </tr>\n",
       "    <tr>\n",
       "      <th>11034</th>\n",
       "      <td>11036</td>\n",
       "      <td>Wien Hotel ibis Vienna Airport</td>\n",
       "      <td>48.123229</td>\n",
       "      <td>16.437528</td>\n",
       "    </tr>\n",
       "  </tbody>\n",
       "</table>\n",
       "</div>"
      ],
      "text/plain": [
       "          id                                        unique_name   latitude  \\\n",
       "11030  11032                          Porto Avda De Los Aliados  41.146922   \n",
       "11031  11033  Rom Ciampino Flughafen Piazzale Leonardo da Vinci  41.804102   \n",
       "11032  11034                                              Sants  41.379892   \n",
       "11033  11035                                       Vozilici D66  45.157136   \n",
       "11034  11036                     Wien Hotel ibis Vienna Airport  48.123229   \n",
       "\n",
       "       longitude  \n",
       "11030  -8.611122  \n",
       "11031  12.597110  \n",
       "11032   2.139462  \n",
       "11033  14.164140  \n",
       "11034  16.437528  "
      ]
     },
     "execution_count": 7,
     "metadata": {},
     "output_type": "execute_result"
    }
   ],
   "source": [
    "stations_data.tail()"
   ]
  },
  {
   "cell_type": "markdown",
   "metadata": {},
   "source": [
    "## 2- Exploration des données"
   ]
  },
  {
   "cell_type": "markdown",
   "metadata": {},
   "source": [
    "### a) Infos utiles"
   ]
  },
  {
   "cell_type": "code",
   "execution_count": 8,
   "metadata": {},
   "outputs": [
    {
     "data": {
      "text/html": [
       "<div>\n",
       "<style scoped>\n",
       "    .dataframe tbody tr th:only-of-type {\n",
       "        vertical-align: middle;\n",
       "    }\n",
       "\n",
       "    .dataframe tbody tr th {\n",
       "        vertical-align: top;\n",
       "    }\n",
       "\n",
       "    .dataframe thead th {\n",
       "        text-align: right;\n",
       "    }\n",
       "</style>\n",
       "<table border=\"1\" class=\"dataframe\">\n",
       "  <thead>\n",
       "    <tr style=\"text-align: right;\">\n",
       "      <th></th>\n",
       "      <th>id</th>\n",
       "      <th>company</th>\n",
       "      <th>o_station</th>\n",
       "      <th>d_station</th>\n",
       "      <th>price_in_euro</th>\n",
       "      <th>o_city</th>\n",
       "      <th>d_city</th>\n",
       "    </tr>\n",
       "  </thead>\n",
       "  <tbody>\n",
       "    <tr>\n",
       "      <th>count</th>\n",
       "      <td>7.416800e+04</td>\n",
       "      <td>74168.000000</td>\n",
       "      <td>32727.000000</td>\n",
       "      <td>32727.000000</td>\n",
       "      <td>74168.000000</td>\n",
       "      <td>74168.000000</td>\n",
       "      <td>74168.000000</td>\n",
       "    </tr>\n",
       "    <tr>\n",
       "      <th>mean</th>\n",
       "      <td>6.832108e+06</td>\n",
       "      <td>7109.565527</td>\n",
       "      <td>2907.132673</td>\n",
       "      <td>2347.858129</td>\n",
       "      <td>43.827111</td>\n",
       "      <td>849.186105</td>\n",
       "      <td>883.776265</td>\n",
       "    </tr>\n",
       "    <tr>\n",
       "      <th>std</th>\n",
       "      <td>2.141060e+04</td>\n",
       "      <td>3005.380792</td>\n",
       "      <td>3347.629180</td>\n",
       "      <td>3090.798007</td>\n",
       "      <td>37.393254</td>\n",
       "      <td>1485.791782</td>\n",
       "      <td>1654.698575</td>\n",
       "    </tr>\n",
       "    <tr>\n",
       "      <th>min</th>\n",
       "      <td>6.795025e+06</td>\n",
       "      <td>9.000000</td>\n",
       "      <td>3.000000</td>\n",
       "      <td>3.000000</td>\n",
       "      <td>3.000000</td>\n",
       "      <td>5.000000</td>\n",
       "      <td>1.000000</td>\n",
       "    </tr>\n",
       "    <tr>\n",
       "      <th>25%</th>\n",
       "      <td>6.813567e+06</td>\n",
       "      <td>8376.000000</td>\n",
       "      <td>400.000000</td>\n",
       "      <td>396.000000</td>\n",
       "      <td>19.000000</td>\n",
       "      <td>485.000000</td>\n",
       "      <td>453.000000</td>\n",
       "    </tr>\n",
       "    <tr>\n",
       "      <th>50%</th>\n",
       "      <td>6.832108e+06</td>\n",
       "      <td>8385.000000</td>\n",
       "      <td>701.000000</td>\n",
       "      <td>575.000000</td>\n",
       "      <td>33.500000</td>\n",
       "      <td>628.000000</td>\n",
       "      <td>562.000000</td>\n",
       "    </tr>\n",
       "    <tr>\n",
       "      <th>75%</th>\n",
       "      <td>6.850650e+06</td>\n",
       "      <td>8385.000000</td>\n",
       "      <td>6246.000000</td>\n",
       "      <td>4538.000000</td>\n",
       "      <td>52.500000</td>\n",
       "      <td>628.000000</td>\n",
       "      <td>628.000000</td>\n",
       "    </tr>\n",
       "    <tr>\n",
       "      <th>max</th>\n",
       "      <td>6.869192e+06</td>\n",
       "      <td>8387.000000</td>\n",
       "      <td>11017.000000</td>\n",
       "      <td>11017.000000</td>\n",
       "      <td>385.500000</td>\n",
       "      <td>12190.000000</td>\n",
       "      <td>12190.000000</td>\n",
       "    </tr>\n",
       "  </tbody>\n",
       "</table>\n",
       "</div>"
      ],
      "text/plain": [
       "                 id       company     o_station     d_station  price_in_euro  \\\n",
       "count  7.416800e+04  74168.000000  32727.000000  32727.000000   74168.000000   \n",
       "mean   6.832108e+06   7109.565527   2907.132673   2347.858129      43.827111   \n",
       "std    2.141060e+04   3005.380792   3347.629180   3090.798007      37.393254   \n",
       "min    6.795025e+06      9.000000      3.000000      3.000000       3.000000   \n",
       "25%    6.813567e+06   8376.000000    400.000000    396.000000      19.000000   \n",
       "50%    6.832108e+06   8385.000000    701.000000    575.000000      33.500000   \n",
       "75%    6.850650e+06   8385.000000   6246.000000   4538.000000      52.500000   \n",
       "max    6.869192e+06   8387.000000  11017.000000  11017.000000     385.500000   \n",
       "\n",
       "             o_city        d_city  \n",
       "count  74168.000000  74168.000000  \n",
       "mean     849.186105    883.776265  \n",
       "std     1485.791782   1654.698575  \n",
       "min        5.000000      1.000000  \n",
       "25%      485.000000    453.000000  \n",
       "50%      628.000000    562.000000  \n",
       "75%      628.000000    628.000000  \n",
       "max    12190.000000  12190.000000  "
      ]
     },
     "execution_count": 8,
     "metadata": {},
     "output_type": "execute_result"
    }
   ],
   "source": [
    "ticket_euro_data.describe()"
   ]
  },
  {
   "cell_type": "code",
   "execution_count": 9,
   "metadata": {},
   "outputs": [
    {
     "name": "stdout",
     "output_type": "stream",
     "text": [
      "385.5\n",
      "3.0\n",
      "43.82711061373479\n"
     ]
    }
   ],
   "source": [
    "print(max(ticket_euro_data['price_in_euro']))   #prix max\n",
    "print(min(ticket_euro_data['price_in_euro']))   #prix min\n",
    "print(ticket_euro_data['price_in_euro'].mean()) #prix en moyenne\n"
   ]
  },
  {
   "cell_type": "code",
   "execution_count": 10,
   "metadata": {},
   "outputs": [
    {
     "data": {
      "text/plain": [
       "id                   int64\n",
       "company              int64\n",
       "o_station          float64\n",
       "d_station          float64\n",
       "departure_ts        object\n",
       "arrival_ts          object\n",
       "price_in_euro      float64\n",
       "search_ts           object\n",
       "middle_stations     object\n",
       "other_companies     object\n",
       "o_city               int64\n",
       "d_city               int64\n",
       "dtype: object"
      ]
     },
     "execution_count": 10,
     "metadata": {},
     "output_type": "execute_result"
    }
   ],
   "source": [
    "ticket_euro_data.dtypes #affiche le type de données des colonnes"
   ]
  },
  {
   "cell_type": "markdown",
   "metadata": {},
   "source": [
    "### b) Ajout de la colonne \"travel_time\""
   ]
  },
  {
   "cell_type": "code",
   "execution_count": 11,
   "metadata": {},
   "outputs": [],
   "source": [
    "#conversion des données des colonnes departure_ts et arrival_ts de type object en données de type datetime\n",
    "ticket_euro_data['departure_ts'] = pd.to_datetime(ticket_euro_data['departure_ts'])\n",
    "ticket_euro_data['arrival_ts'] = pd.to_datetime(ticket_euro_data['arrival_ts'])"
   ]
  },
  {
   "cell_type": "code",
   "execution_count": 12,
   "metadata": {},
   "outputs": [
    {
     "data": {
      "text/plain": [
       "id                               int64\n",
       "company                          int64\n",
       "o_station                      float64\n",
       "d_station                      float64\n",
       "departure_ts       datetime64[ns, UTC]\n",
       "arrival_ts         datetime64[ns, UTC]\n",
       "price_in_euro                  float64\n",
       "search_ts                       object\n",
       "middle_stations                 object\n",
       "other_companies                 object\n",
       "o_city                           int64\n",
       "d_city                           int64\n",
       "dtype: object"
      ]
     },
     "execution_count": 12,
     "metadata": {},
     "output_type": "execute_result"
    }
   ],
   "source": [
    "ticket_euro_data.dtypes"
   ]
  },
  {
   "cell_type": "code",
   "execution_count": 13,
   "metadata": {},
   "outputs": [],
   "source": [
    "#création d'une colonne représentant la durée de trajet : \"travel_time\"\n",
    "ticket_euro_data['travel_time'] = ticket_euro_data['arrival_ts'] - ticket_euro_data['departure_ts']"
   ]
  },
  {
   "cell_type": "code",
   "execution_count": 14,
   "metadata": {},
   "outputs": [
    {
     "data": {
      "text/html": [
       "<div>\n",
       "<style scoped>\n",
       "    .dataframe tbody tr th:only-of-type {\n",
       "        vertical-align: middle;\n",
       "    }\n",
       "\n",
       "    .dataframe tbody tr th {\n",
       "        vertical-align: top;\n",
       "    }\n",
       "\n",
       "    .dataframe thead th {\n",
       "        text-align: right;\n",
       "    }\n",
       "</style>\n",
       "<table border=\"1\" class=\"dataframe\">\n",
       "  <thead>\n",
       "    <tr style=\"text-align: right;\">\n",
       "      <th></th>\n",
       "      <th>id</th>\n",
       "      <th>company</th>\n",
       "      <th>o_station</th>\n",
       "      <th>d_station</th>\n",
       "      <th>departure_ts</th>\n",
       "      <th>arrival_ts</th>\n",
       "      <th>price_in_euro</th>\n",
       "      <th>search_ts</th>\n",
       "      <th>middle_stations</th>\n",
       "      <th>other_companies</th>\n",
       "      <th>o_city</th>\n",
       "      <th>d_city</th>\n",
       "      <th>travel_time</th>\n",
       "    </tr>\n",
       "  </thead>\n",
       "  <tbody>\n",
       "    <tr>\n",
       "      <th>0</th>\n",
       "      <td>6795025</td>\n",
       "      <td>8385</td>\n",
       "      <td>NaN</td>\n",
       "      <td>NaN</td>\n",
       "      <td>2017-10-13 14:00:00+00:00</td>\n",
       "      <td>2017-10-13 20:10:00+00:00</td>\n",
       "      <td>45.5</td>\n",
       "      <td>2017-10-01 00:13:31.327+00</td>\n",
       "      <td>NaN</td>\n",
       "      <td>NaN</td>\n",
       "      <td>611</td>\n",
       "      <td>542</td>\n",
       "      <td>0 days 06:10:00</td>\n",
       "    </tr>\n",
       "    <tr>\n",
       "      <th>1</th>\n",
       "      <td>6795026</td>\n",
       "      <td>9</td>\n",
       "      <td>63.0</td>\n",
       "      <td>1044.0</td>\n",
       "      <td>2017-10-13 13:05:00+00:00</td>\n",
       "      <td>2017-10-14 06:55:00+00:00</td>\n",
       "      <td>14.5</td>\n",
       "      <td>2017-10-01 00:13:35.773+00</td>\n",
       "      <td>{149,418}</td>\n",
       "      <td>{13}</td>\n",
       "      <td>611</td>\n",
       "      <td>542</td>\n",
       "      <td>0 days 17:50:00</td>\n",
       "    </tr>\n",
       "    <tr>\n",
       "      <th>2</th>\n",
       "      <td>6795027</td>\n",
       "      <td>8377</td>\n",
       "      <td>5905.0</td>\n",
       "      <td>6495.0</td>\n",
       "      <td>2017-10-13 13:27:00+00:00</td>\n",
       "      <td>2017-10-14 21:24:00+00:00</td>\n",
       "      <td>74.0</td>\n",
       "      <td>2017-10-01 00:13:40.212+00</td>\n",
       "      <td>{798,798,6794,6246}</td>\n",
       "      <td>{8377,8376}</td>\n",
       "      <td>611</td>\n",
       "      <td>542</td>\n",
       "      <td>1 days 07:57:00</td>\n",
       "    </tr>\n",
       "    <tr>\n",
       "      <th>3</th>\n",
       "      <td>6795028</td>\n",
       "      <td>8377</td>\n",
       "      <td>5905.0</td>\n",
       "      <td>6495.0</td>\n",
       "      <td>2017-10-13 13:27:00+00:00</td>\n",
       "      <td>2017-10-14 11:02:00+00:00</td>\n",
       "      <td>135.0</td>\n",
       "      <td>2017-10-01 00:13:40.213+00</td>\n",
       "      <td>{798,798,6794,6246}</td>\n",
       "      <td>{8377,8376}</td>\n",
       "      <td>611</td>\n",
       "      <td>542</td>\n",
       "      <td>0 days 21:35:00</td>\n",
       "    </tr>\n",
       "    <tr>\n",
       "      <th>4</th>\n",
       "      <td>6795029</td>\n",
       "      <td>8381</td>\n",
       "      <td>5905.0</td>\n",
       "      <td>6495.0</td>\n",
       "      <td>2017-10-13 21:46:00+00:00</td>\n",
       "      <td>2017-10-14 19:32:00+00:00</td>\n",
       "      <td>77.1</td>\n",
       "      <td>2017-10-01 00:13:40.213+00</td>\n",
       "      <td>{5983,5983}</td>\n",
       "      <td>{8380}</td>\n",
       "      <td>611</td>\n",
       "      <td>542</td>\n",
       "      <td>0 days 21:46:00</td>\n",
       "    </tr>\n",
       "  </tbody>\n",
       "</table>\n",
       "</div>"
      ],
      "text/plain": [
       "        id  company  o_station  d_station              departure_ts  \\\n",
       "0  6795025     8385        NaN        NaN 2017-10-13 14:00:00+00:00   \n",
       "1  6795026        9       63.0     1044.0 2017-10-13 13:05:00+00:00   \n",
       "2  6795027     8377     5905.0     6495.0 2017-10-13 13:27:00+00:00   \n",
       "3  6795028     8377     5905.0     6495.0 2017-10-13 13:27:00+00:00   \n",
       "4  6795029     8381     5905.0     6495.0 2017-10-13 21:46:00+00:00   \n",
       "\n",
       "                 arrival_ts  price_in_euro                   search_ts  \\\n",
       "0 2017-10-13 20:10:00+00:00           45.5  2017-10-01 00:13:31.327+00   \n",
       "1 2017-10-14 06:55:00+00:00           14.5  2017-10-01 00:13:35.773+00   \n",
       "2 2017-10-14 21:24:00+00:00           74.0  2017-10-01 00:13:40.212+00   \n",
       "3 2017-10-14 11:02:00+00:00          135.0  2017-10-01 00:13:40.213+00   \n",
       "4 2017-10-14 19:32:00+00:00           77.1  2017-10-01 00:13:40.213+00   \n",
       "\n",
       "       middle_stations other_companies  o_city  d_city     travel_time  \n",
       "0                  NaN             NaN     611     542 0 days 06:10:00  \n",
       "1            {149,418}            {13}     611     542 0 days 17:50:00  \n",
       "2  {798,798,6794,6246}     {8377,8376}     611     542 1 days 07:57:00  \n",
       "3  {798,798,6794,6246}     {8377,8376}     611     542 0 days 21:35:00  \n",
       "4          {5983,5983}          {8380}     611     542 0 days 21:46:00  "
      ]
     },
     "execution_count": 14,
     "metadata": {},
     "output_type": "execute_result"
    }
   ],
   "source": [
    "ticket_euro_data.head()"
   ]
  },
  {
   "cell_type": "code",
   "execution_count": 15,
   "metadata": {},
   "outputs": [
    {
     "name": "stdout",
     "output_type": "stream",
     "text": [
      "20 days 12:51:00\n",
      "0 days 00:20:00\n",
      "0 days 07:04:37.247600\n"
     ]
    }
   ],
   "source": [
    "print(max(ticket_euro_data['travel_time']))   #durée max d'un trajet\n",
    "print(min(ticket_euro_data['travel_time']))   #durée min d'un trajet\n",
    "print(ticket_euro_data['travel_time'].mean()) #durée moyenne d'un trajet"
   ]
  },
  {
   "cell_type": "code",
   "execution_count": 16,
   "metadata": {},
   "outputs": [
    {
     "data": {
      "text/html": [
       "<div>\n",
       "<style scoped>\n",
       "    .dataframe tbody tr th:only-of-type {\n",
       "        vertical-align: middle;\n",
       "    }\n",
       "\n",
       "    .dataframe tbody tr th {\n",
       "        vertical-align: top;\n",
       "    }\n",
       "\n",
       "    .dataframe thead th {\n",
       "        text-align: right;\n",
       "    }\n",
       "</style>\n",
       "<table border=\"1\" class=\"dataframe\">\n",
       "  <thead>\n",
       "    <tr style=\"text-align: right;\">\n",
       "      <th></th>\n",
       "      <th>id</th>\n",
       "      <th>company</th>\n",
       "      <th>o_station</th>\n",
       "      <th>d_station</th>\n",
       "      <th>departure_ts</th>\n",
       "      <th>arrival_ts</th>\n",
       "      <th>price_in_euro</th>\n",
       "      <th>search_ts</th>\n",
       "      <th>middle_stations</th>\n",
       "      <th>other_companies</th>\n",
       "      <th>o_city</th>\n",
       "      <th>d_city</th>\n",
       "      <th>travel_time</th>\n",
       "    </tr>\n",
       "  </thead>\n",
       "  <tbody>\n",
       "    <tr>\n",
       "      <th>5175</th>\n",
       "      <td>6800200</td>\n",
       "      <td>8372</td>\n",
       "      <td>860.0</td>\n",
       "      <td>396.0</td>\n",
       "      <td>2017-10-27 23:59:00+00:00</td>\n",
       "      <td>2017-11-17 12:50:00+00:00</td>\n",
       "      <td>32.0</td>\n",
       "      <td>2017-10-02 20:39:10.75+00</td>\n",
       "      <td>{10760,10144}</td>\n",
       "      <td>{9}</td>\n",
       "      <td>126</td>\n",
       "      <td>453</td>\n",
       "      <td>20 days 12:51:00</td>\n",
       "    </tr>\n",
       "  </tbody>\n",
       "</table>\n",
       "</div>"
      ],
      "text/plain": [
       "           id  company  o_station  d_station              departure_ts  \\\n",
       "5175  6800200     8372      860.0      396.0 2017-10-27 23:59:00+00:00   \n",
       "\n",
       "                    arrival_ts  price_in_euro                  search_ts  \\\n",
       "5175 2017-11-17 12:50:00+00:00           32.0  2017-10-02 20:39:10.75+00   \n",
       "\n",
       "     middle_stations other_companies  o_city  d_city      travel_time  \n",
       "5175   {10760,10144}             {9}     126     453 20 days 12:51:00  "
      ]
     },
     "execution_count": 16,
     "metadata": {},
     "output_type": "execute_result"
    }
   ],
   "source": [
    "#identification de la ligne qui comporte la durée max d'un trajet\n",
    "ticket_euro_data.loc[ticket_euro_data.travel_time == '20 days 12:51:00' ]"
   ]
  },
  {
   "cell_type": "markdown",
   "metadata": {},
   "source": [
    "### c) Ajout de la colonne \"travel_distance\""
   ]
  },
  {
   "cell_type": "code",
   "execution_count": 17,
   "metadata": {},
   "outputs": [
    {
     "data": {
      "text/html": [
       "<div>\n",
       "<style scoped>\n",
       "    .dataframe tbody tr th:only-of-type {\n",
       "        vertical-align: middle;\n",
       "    }\n",
       "\n",
       "    .dataframe tbody tr th {\n",
       "        vertical-align: top;\n",
       "    }\n",
       "\n",
       "    .dataframe thead th {\n",
       "        text-align: right;\n",
       "    }\n",
       "</style>\n",
       "<table border=\"1\" class=\"dataframe\">\n",
       "  <thead>\n",
       "    <tr style=\"text-align: right;\">\n",
       "      <th></th>\n",
       "      <th>o_station</th>\n",
       "      <th>o_stat_unique_name</th>\n",
       "      <th>o_stat_latitude</th>\n",
       "      <th>o_stat_longitude</th>\n",
       "    </tr>\n",
       "  </thead>\n",
       "  <tbody>\n",
       "    <tr>\n",
       "      <th>0</th>\n",
       "      <td>1</td>\n",
       "      <td>Aalen (Stuttgarter Straße)</td>\n",
       "      <td>48.835296</td>\n",
       "      <td>10.092956</td>\n",
       "    </tr>\n",
       "    <tr>\n",
       "      <th>1</th>\n",
       "      <td>2</td>\n",
       "      <td>Aéroport Bordeaux-Mérignac</td>\n",
       "      <td>44.830226</td>\n",
       "      <td>-0.700883</td>\n",
       "    </tr>\n",
       "    <tr>\n",
       "      <th>2</th>\n",
       "      <td>3</td>\n",
       "      <td>Aéroport CDG</td>\n",
       "      <td>49.009900</td>\n",
       "      <td>2.559310</td>\n",
       "    </tr>\n",
       "    <tr>\n",
       "      <th>3</th>\n",
       "      <td>4</td>\n",
       "      <td>Aéroport de Berlin-Schönefeld</td>\n",
       "      <td>52.389446</td>\n",
       "      <td>13.520345</td>\n",
       "    </tr>\n",
       "    <tr>\n",
       "      <th>4</th>\n",
       "      <td>5</td>\n",
       "      <td>Aéroport de Dresden</td>\n",
       "      <td>51.123604</td>\n",
       "      <td>13.764737</td>\n",
       "    </tr>\n",
       "  </tbody>\n",
       "</table>\n",
       "</div>"
      ],
      "text/plain": [
       "   o_station              o_stat_unique_name  o_stat_latitude  \\\n",
       "0          1      Aalen (Stuttgarter Straße)        48.835296   \n",
       "1          2      Aéroport Bordeaux-Mérignac        44.830226   \n",
       "2          3                   Aéroport CDG         49.009900   \n",
       "3          4  Aéroport de Berlin-Schönefeld         52.389446   \n",
       "4          5             Aéroport de Dresden        51.123604   \n",
       "\n",
       "   o_stat_longitude  \n",
       "0         10.092956  \n",
       "1         -0.700883  \n",
       "2          2.559310  \n",
       "3         13.520345  \n",
       "4         13.764737  "
      ]
     },
     "execution_count": 17,
     "metadata": {},
     "output_type": "execute_result"
    }
   ],
   "source": [
    "#modification des noms des colonnes pour une lecture simplifiée, une fois les joins effectués\n",
    "o_stations_data = stations_data.rename(columns = {'id':'o_station','latitude' : 'o_stat_latitude','longitude':'o_stat_longitude','unique_name':'o_stat_unique_name'})\n",
    "d_stations_data = stations_data.rename(columns = {'id':'d_station','latitude' : 'd_stat_latitude','longitude':'d_stat_longitude','unique_name':'d_stat_unique_name'})\n",
    "o_stations_data.head()"
   ]
  },
  {
   "cell_type": "code",
   "execution_count": 18,
   "metadata": {},
   "outputs": [],
   "source": [
    "#on effectue des joins des dataframes o_stations_data et d_stations_data sur la dataframe ticket_euro_data \n",
    "ticket_euro_data = ticket_euro_data.join(o_stations_data.set_index('o_station'), on='o_station')\n"
   ]
  },
  {
   "cell_type": "code",
   "execution_count": 19,
   "metadata": {},
   "outputs": [],
   "source": [
    "ticket_euro_data = ticket_euro_data.join(d_stations_data.set_index('d_station'), on='d_station')"
   ]
  },
  {
   "cell_type": "code",
   "execution_count": 20,
   "metadata": {},
   "outputs": [
    {
     "data": {
      "text/html": [
       "<div>\n",
       "<style scoped>\n",
       "    .dataframe tbody tr th:only-of-type {\n",
       "        vertical-align: middle;\n",
       "    }\n",
       "\n",
       "    .dataframe tbody tr th {\n",
       "        vertical-align: top;\n",
       "    }\n",
       "\n",
       "    .dataframe thead th {\n",
       "        text-align: right;\n",
       "    }\n",
       "</style>\n",
       "<table border=\"1\" class=\"dataframe\">\n",
       "  <thead>\n",
       "    <tr style=\"text-align: right;\">\n",
       "      <th></th>\n",
       "      <th>id</th>\n",
       "      <th>company</th>\n",
       "      <th>o_station</th>\n",
       "      <th>d_station</th>\n",
       "      <th>departure_ts</th>\n",
       "      <th>arrival_ts</th>\n",
       "      <th>price_in_euro</th>\n",
       "      <th>search_ts</th>\n",
       "      <th>middle_stations</th>\n",
       "      <th>other_companies</th>\n",
       "      <th>o_city</th>\n",
       "      <th>d_city</th>\n",
       "      <th>travel_time</th>\n",
       "      <th>o_stat_unique_name</th>\n",
       "      <th>o_stat_latitude</th>\n",
       "      <th>o_stat_longitude</th>\n",
       "      <th>d_stat_unique_name</th>\n",
       "      <th>d_stat_latitude</th>\n",
       "      <th>d_stat_longitude</th>\n",
       "    </tr>\n",
       "  </thead>\n",
       "  <tbody>\n",
       "    <tr>\n",
       "      <th>0</th>\n",
       "      <td>6795025</td>\n",
       "      <td>8385</td>\n",
       "      <td>NaN</td>\n",
       "      <td>NaN</td>\n",
       "      <td>2017-10-13 14:00:00+00:00</td>\n",
       "      <td>2017-10-13 20:10:00+00:00</td>\n",
       "      <td>45.5</td>\n",
       "      <td>2017-10-01 00:13:31.327+00</td>\n",
       "      <td>NaN</td>\n",
       "      <td>NaN</td>\n",
       "      <td>611</td>\n",
       "      <td>542</td>\n",
       "      <td>0 days 06:10:00</td>\n",
       "      <td>NaN</td>\n",
       "      <td>NaN</td>\n",
       "      <td>NaN</td>\n",
       "      <td>NaN</td>\n",
       "      <td>NaN</td>\n",
       "      <td>NaN</td>\n",
       "    </tr>\n",
       "    <tr>\n",
       "      <th>1</th>\n",
       "      <td>6795026</td>\n",
       "      <td>9</td>\n",
       "      <td>63.0</td>\n",
       "      <td>1044.0</td>\n",
       "      <td>2017-10-13 13:05:00+00:00</td>\n",
       "      <td>2017-10-14 06:55:00+00:00</td>\n",
       "      <td>14.5</td>\n",
       "      <td>2017-10-01 00:13:35.773+00</td>\n",
       "      <td>{149,418}</td>\n",
       "      <td>{13}</td>\n",
       "      <td>611</td>\n",
       "      <td>542</td>\n",
       "      <td>0 days 17:50:00</td>\n",
       "      <td>Avenue Georges Pompidou</td>\n",
       "      <td>47.896911</td>\n",
       "      <td>1.854277</td>\n",
       "      <td>Station Les Sabines</td>\n",
       "      <td>43.583932</td>\n",
       "      <td>3.860233</td>\n",
       "    </tr>\n",
       "    <tr>\n",
       "      <th>2</th>\n",
       "      <td>6795027</td>\n",
       "      <td>8377</td>\n",
       "      <td>5905.0</td>\n",
       "      <td>6495.0</td>\n",
       "      <td>2017-10-13 13:27:00+00:00</td>\n",
       "      <td>2017-10-14 21:24:00+00:00</td>\n",
       "      <td>74.0</td>\n",
       "      <td>2017-10-01 00:13:40.212+00</td>\n",
       "      <td>{798,798,6794,6246}</td>\n",
       "      <td>{8377,8376}</td>\n",
       "      <td>611</td>\n",
       "      <td>542</td>\n",
       "      <td>1 days 07:57:00</td>\n",
       "      <td>Les Aubrais</td>\n",
       "      <td>47.926740</td>\n",
       "      <td>1.906740</td>\n",
       "      <td>Montpellier</td>\n",
       "      <td>43.604900</td>\n",
       "      <td>3.880500</td>\n",
       "    </tr>\n",
       "    <tr>\n",
       "      <th>3</th>\n",
       "      <td>6795028</td>\n",
       "      <td>8377</td>\n",
       "      <td>5905.0</td>\n",
       "      <td>6495.0</td>\n",
       "      <td>2017-10-13 13:27:00+00:00</td>\n",
       "      <td>2017-10-14 11:02:00+00:00</td>\n",
       "      <td>135.0</td>\n",
       "      <td>2017-10-01 00:13:40.213+00</td>\n",
       "      <td>{798,798,6794,6246}</td>\n",
       "      <td>{8377,8376}</td>\n",
       "      <td>611</td>\n",
       "      <td>542</td>\n",
       "      <td>0 days 21:35:00</td>\n",
       "      <td>Les Aubrais</td>\n",
       "      <td>47.926740</td>\n",
       "      <td>1.906740</td>\n",
       "      <td>Montpellier</td>\n",
       "      <td>43.604900</td>\n",
       "      <td>3.880500</td>\n",
       "    </tr>\n",
       "    <tr>\n",
       "      <th>4</th>\n",
       "      <td>6795029</td>\n",
       "      <td>8381</td>\n",
       "      <td>5905.0</td>\n",
       "      <td>6495.0</td>\n",
       "      <td>2017-10-13 21:46:00+00:00</td>\n",
       "      <td>2017-10-14 19:32:00+00:00</td>\n",
       "      <td>77.1</td>\n",
       "      <td>2017-10-01 00:13:40.213+00</td>\n",
       "      <td>{5983,5983}</td>\n",
       "      <td>{8380}</td>\n",
       "      <td>611</td>\n",
       "      <td>542</td>\n",
       "      <td>0 days 21:46:00</td>\n",
       "      <td>Les Aubrais</td>\n",
       "      <td>47.926740</td>\n",
       "      <td>1.906740</td>\n",
       "      <td>Montpellier</td>\n",
       "      <td>43.604900</td>\n",
       "      <td>3.880500</td>\n",
       "    </tr>\n",
       "  </tbody>\n",
       "</table>\n",
       "</div>"
      ],
      "text/plain": [
       "        id  company  o_station  d_station              departure_ts  \\\n",
       "0  6795025     8385        NaN        NaN 2017-10-13 14:00:00+00:00   \n",
       "1  6795026        9       63.0     1044.0 2017-10-13 13:05:00+00:00   \n",
       "2  6795027     8377     5905.0     6495.0 2017-10-13 13:27:00+00:00   \n",
       "3  6795028     8377     5905.0     6495.0 2017-10-13 13:27:00+00:00   \n",
       "4  6795029     8381     5905.0     6495.0 2017-10-13 21:46:00+00:00   \n",
       "\n",
       "                 arrival_ts  price_in_euro                   search_ts  \\\n",
       "0 2017-10-13 20:10:00+00:00           45.5  2017-10-01 00:13:31.327+00   \n",
       "1 2017-10-14 06:55:00+00:00           14.5  2017-10-01 00:13:35.773+00   \n",
       "2 2017-10-14 21:24:00+00:00           74.0  2017-10-01 00:13:40.212+00   \n",
       "3 2017-10-14 11:02:00+00:00          135.0  2017-10-01 00:13:40.213+00   \n",
       "4 2017-10-14 19:32:00+00:00           77.1  2017-10-01 00:13:40.213+00   \n",
       "\n",
       "       middle_stations other_companies  o_city  d_city     travel_time  \\\n",
       "0                  NaN             NaN     611     542 0 days 06:10:00   \n",
       "1            {149,418}            {13}     611     542 0 days 17:50:00   \n",
       "2  {798,798,6794,6246}     {8377,8376}     611     542 1 days 07:57:00   \n",
       "3  {798,798,6794,6246}     {8377,8376}     611     542 0 days 21:35:00   \n",
       "4          {5983,5983}          {8380}     611     542 0 days 21:46:00   \n",
       "\n",
       "        o_stat_unique_name  o_stat_latitude  o_stat_longitude  \\\n",
       "0                      NaN              NaN               NaN   \n",
       "1  Avenue Georges Pompidou        47.896911          1.854277   \n",
       "2              Les Aubrais        47.926740          1.906740   \n",
       "3              Les Aubrais        47.926740          1.906740   \n",
       "4              Les Aubrais        47.926740          1.906740   \n",
       "\n",
       "    d_stat_unique_name  d_stat_latitude  d_stat_longitude  \n",
       "0                  NaN              NaN               NaN  \n",
       "1  Station Les Sabines        43.583932          3.860233  \n",
       "2          Montpellier        43.604900          3.880500  \n",
       "3          Montpellier        43.604900          3.880500  \n",
       "4          Montpellier        43.604900          3.880500  "
      ]
     },
     "execution_count": 20,
     "metadata": {},
     "output_type": "execute_result"
    }
   ],
   "source": [
    "ticket_euro_data.head()"
   ]
  },
  {
   "cell_type": "code",
   "execution_count": 21,
   "metadata": {},
   "outputs": [],
   "source": [
    "#Il nous manque des données des stations pour calculer la distance de trajet,\n",
    "#on va donc remplacer les coordonnées des stations par les coordonnées des villes,\n",
    "#pour avoir une distance de trajet approximative mais proche de la réalité\n",
    "\n",
    "#modification des noms des colonnes pour une lecture simplifiée, une fois les joins effectués\n",
    "o_cities_data = cities_data.rename(columns = {'id':'o_city','latitude' : 'o_city_latitude','longitude':'o_city_longitude','unique_name':'o_city_unique_name','local_name':'o_city_local_name','population':'o_city_population'})\n",
    "d_cities_data = cities_data.rename(columns = {'id':'d_city','latitude' : 'd_city_latitude','longitude':'d_city_longitude','unique_name':'d_city_unique_name','local_name':'d_city_local_name','population':'d_city_population'})\n"
   ]
  },
  {
   "cell_type": "code",
   "execution_count": 22,
   "metadata": {},
   "outputs": [],
   "source": [
    "#on effectue des joins des dataframes o_cities_data et d_cities_data sur la dataframe ticket_euro_data \n",
    "ticket_euro_data = ticket_euro_data.join(o_cities_data.set_index('o_city'), on='o_city')\n",
    "ticket_euro_data = ticket_euro_data.join(d_cities_data.set_index('d_city'), on='d_city')"
   ]
  },
  {
   "cell_type": "code",
   "execution_count": 23,
   "metadata": {},
   "outputs": [
    {
     "data": {
      "text/html": [
       "<div>\n",
       "<style scoped>\n",
       "    .dataframe tbody tr th:only-of-type {\n",
       "        vertical-align: middle;\n",
       "    }\n",
       "\n",
       "    .dataframe tbody tr th {\n",
       "        vertical-align: top;\n",
       "    }\n",
       "\n",
       "    .dataframe thead th {\n",
       "        text-align: right;\n",
       "    }\n",
       "</style>\n",
       "<table border=\"1\" class=\"dataframe\">\n",
       "  <thead>\n",
       "    <tr style=\"text-align: right;\">\n",
       "      <th></th>\n",
       "      <th>id</th>\n",
       "      <th>company</th>\n",
       "      <th>o_station</th>\n",
       "      <th>d_station</th>\n",
       "      <th>departure_ts</th>\n",
       "      <th>arrival_ts</th>\n",
       "      <th>price_in_euro</th>\n",
       "      <th>search_ts</th>\n",
       "      <th>middle_stations</th>\n",
       "      <th>other_companies</th>\n",
       "      <th>...</th>\n",
       "      <th>o_city_local_name</th>\n",
       "      <th>o_city_unique_name</th>\n",
       "      <th>o_city_latitude</th>\n",
       "      <th>o_city_longitude</th>\n",
       "      <th>o_city_population</th>\n",
       "      <th>d_city_local_name</th>\n",
       "      <th>d_city_unique_name</th>\n",
       "      <th>d_city_latitude</th>\n",
       "      <th>d_city_longitude</th>\n",
       "      <th>d_city_population</th>\n",
       "    </tr>\n",
       "  </thead>\n",
       "  <tbody>\n",
       "    <tr>\n",
       "      <th>0</th>\n",
       "      <td>6795025</td>\n",
       "      <td>8385</td>\n",
       "      <td>NaN</td>\n",
       "      <td>NaN</td>\n",
       "      <td>2017-10-13 14:00:00+00:00</td>\n",
       "      <td>2017-10-13 20:10:00+00:00</td>\n",
       "      <td>45.5</td>\n",
       "      <td>2017-10-01 00:13:31.327+00</td>\n",
       "      <td>NaN</td>\n",
       "      <td>NaN</td>\n",
       "      <td>...</td>\n",
       "      <td>Orléans, Centre-Val de Loire, France</td>\n",
       "      <td>orleans</td>\n",
       "      <td>47.907018</td>\n",
       "      <td>1.90627</td>\n",
       "      <td>114977.0</td>\n",
       "      <td>Montpellier, Occitanie, France</td>\n",
       "      <td>montpellier</td>\n",
       "      <td>43.604452</td>\n",
       "      <td>3.918318</td>\n",
       "      <td>275318.0</td>\n",
       "    </tr>\n",
       "    <tr>\n",
       "      <th>1</th>\n",
       "      <td>6795026</td>\n",
       "      <td>9</td>\n",
       "      <td>63.0</td>\n",
       "      <td>1044.0</td>\n",
       "      <td>2017-10-13 13:05:00+00:00</td>\n",
       "      <td>2017-10-14 06:55:00+00:00</td>\n",
       "      <td>14.5</td>\n",
       "      <td>2017-10-01 00:13:35.773+00</td>\n",
       "      <td>{149,418}</td>\n",
       "      <td>{13}</td>\n",
       "      <td>...</td>\n",
       "      <td>Orléans, Centre-Val de Loire, France</td>\n",
       "      <td>orleans</td>\n",
       "      <td>47.907018</td>\n",
       "      <td>1.90627</td>\n",
       "      <td>114977.0</td>\n",
       "      <td>Montpellier, Occitanie, France</td>\n",
       "      <td>montpellier</td>\n",
       "      <td>43.604452</td>\n",
       "      <td>3.918318</td>\n",
       "      <td>275318.0</td>\n",
       "    </tr>\n",
       "    <tr>\n",
       "      <th>2</th>\n",
       "      <td>6795027</td>\n",
       "      <td>8377</td>\n",
       "      <td>5905.0</td>\n",
       "      <td>6495.0</td>\n",
       "      <td>2017-10-13 13:27:00+00:00</td>\n",
       "      <td>2017-10-14 21:24:00+00:00</td>\n",
       "      <td>74.0</td>\n",
       "      <td>2017-10-01 00:13:40.212+00</td>\n",
       "      <td>{798,798,6794,6246}</td>\n",
       "      <td>{8377,8376}</td>\n",
       "      <td>...</td>\n",
       "      <td>Orléans, Centre-Val de Loire, France</td>\n",
       "      <td>orleans</td>\n",
       "      <td>47.907018</td>\n",
       "      <td>1.90627</td>\n",
       "      <td>114977.0</td>\n",
       "      <td>Montpellier, Occitanie, France</td>\n",
       "      <td>montpellier</td>\n",
       "      <td>43.604452</td>\n",
       "      <td>3.918318</td>\n",
       "      <td>275318.0</td>\n",
       "    </tr>\n",
       "    <tr>\n",
       "      <th>3</th>\n",
       "      <td>6795028</td>\n",
       "      <td>8377</td>\n",
       "      <td>5905.0</td>\n",
       "      <td>6495.0</td>\n",
       "      <td>2017-10-13 13:27:00+00:00</td>\n",
       "      <td>2017-10-14 11:02:00+00:00</td>\n",
       "      <td>135.0</td>\n",
       "      <td>2017-10-01 00:13:40.213+00</td>\n",
       "      <td>{798,798,6794,6246}</td>\n",
       "      <td>{8377,8376}</td>\n",
       "      <td>...</td>\n",
       "      <td>Orléans, Centre-Val de Loire, France</td>\n",
       "      <td>orleans</td>\n",
       "      <td>47.907018</td>\n",
       "      <td>1.90627</td>\n",
       "      <td>114977.0</td>\n",
       "      <td>Montpellier, Occitanie, France</td>\n",
       "      <td>montpellier</td>\n",
       "      <td>43.604452</td>\n",
       "      <td>3.918318</td>\n",
       "      <td>275318.0</td>\n",
       "    </tr>\n",
       "    <tr>\n",
       "      <th>4</th>\n",
       "      <td>6795029</td>\n",
       "      <td>8381</td>\n",
       "      <td>5905.0</td>\n",
       "      <td>6495.0</td>\n",
       "      <td>2017-10-13 21:46:00+00:00</td>\n",
       "      <td>2017-10-14 19:32:00+00:00</td>\n",
       "      <td>77.1</td>\n",
       "      <td>2017-10-01 00:13:40.213+00</td>\n",
       "      <td>{5983,5983}</td>\n",
       "      <td>{8380}</td>\n",
       "      <td>...</td>\n",
       "      <td>Orléans, Centre-Val de Loire, France</td>\n",
       "      <td>orleans</td>\n",
       "      <td>47.907018</td>\n",
       "      <td>1.90627</td>\n",
       "      <td>114977.0</td>\n",
       "      <td>Montpellier, Occitanie, France</td>\n",
       "      <td>montpellier</td>\n",
       "      <td>43.604452</td>\n",
       "      <td>3.918318</td>\n",
       "      <td>275318.0</td>\n",
       "    </tr>\n",
       "  </tbody>\n",
       "</table>\n",
       "<p>5 rows × 29 columns</p>\n",
       "</div>"
      ],
      "text/plain": [
       "        id  company  o_station  d_station              departure_ts  \\\n",
       "0  6795025     8385        NaN        NaN 2017-10-13 14:00:00+00:00   \n",
       "1  6795026        9       63.0     1044.0 2017-10-13 13:05:00+00:00   \n",
       "2  6795027     8377     5905.0     6495.0 2017-10-13 13:27:00+00:00   \n",
       "3  6795028     8377     5905.0     6495.0 2017-10-13 13:27:00+00:00   \n",
       "4  6795029     8381     5905.0     6495.0 2017-10-13 21:46:00+00:00   \n",
       "\n",
       "                 arrival_ts  price_in_euro                   search_ts  \\\n",
       "0 2017-10-13 20:10:00+00:00           45.5  2017-10-01 00:13:31.327+00   \n",
       "1 2017-10-14 06:55:00+00:00           14.5  2017-10-01 00:13:35.773+00   \n",
       "2 2017-10-14 21:24:00+00:00           74.0  2017-10-01 00:13:40.212+00   \n",
       "3 2017-10-14 11:02:00+00:00          135.0  2017-10-01 00:13:40.213+00   \n",
       "4 2017-10-14 19:32:00+00:00           77.1  2017-10-01 00:13:40.213+00   \n",
       "\n",
       "       middle_stations other_companies  ...  \\\n",
       "0                  NaN             NaN  ...   \n",
       "1            {149,418}            {13}  ...   \n",
       "2  {798,798,6794,6246}     {8377,8376}  ...   \n",
       "3  {798,798,6794,6246}     {8377,8376}  ...   \n",
       "4          {5983,5983}          {8380}  ...   \n",
       "\n",
       "                      o_city_local_name  o_city_unique_name o_city_latitude  \\\n",
       "0  Orléans, Centre-Val de Loire, France             orleans       47.907018   \n",
       "1  Orléans, Centre-Val de Loire, France             orleans       47.907018   \n",
       "2  Orléans, Centre-Val de Loire, France             orleans       47.907018   \n",
       "3  Orléans, Centre-Val de Loire, France             orleans       47.907018   \n",
       "4  Orléans, Centre-Val de Loire, France             orleans       47.907018   \n",
       "\n",
       "  o_city_longitude  o_city_population               d_city_local_name  \\\n",
       "0          1.90627           114977.0  Montpellier, Occitanie, France   \n",
       "1          1.90627           114977.0  Montpellier, Occitanie, France   \n",
       "2          1.90627           114977.0  Montpellier, Occitanie, France   \n",
       "3          1.90627           114977.0  Montpellier, Occitanie, France   \n",
       "4          1.90627           114977.0  Montpellier, Occitanie, France   \n",
       "\n",
       "  d_city_unique_name  d_city_latitude  d_city_longitude d_city_population  \n",
       "0        montpellier        43.604452          3.918318          275318.0  \n",
       "1        montpellier        43.604452          3.918318          275318.0  \n",
       "2        montpellier        43.604452          3.918318          275318.0  \n",
       "3        montpellier        43.604452          3.918318          275318.0  \n",
       "4        montpellier        43.604452          3.918318          275318.0  \n",
       "\n",
       "[5 rows x 29 columns]"
      ]
     },
     "execution_count": 23,
     "metadata": {},
     "output_type": "execute_result"
    }
   ],
   "source": [
    "ticket_euro_data.head()"
   ]
  },
  {
   "cell_type": "code",
   "execution_count": 24,
   "metadata": {},
   "outputs": [],
   "source": [
    "#on remplace les coordonnées manquantes des stations par les coordonnées des villes correspondantes.\n",
    "\n",
    "ticket_euro_data['o_stat_latitude'] = ticket_euro_data['o_stat_latitude'].fillna(ticket_euro_data['o_city_latitude'])\n",
    "ticket_euro_data['o_stat_longitude'] = ticket_euro_data['o_stat_longitude'].fillna(ticket_euro_data['o_city_longitude'])\n",
    "ticket_euro_data['d_stat_latitude'] = ticket_euro_data['d_stat_latitude'].fillna(ticket_euro_data['d_city_latitude'])\n",
    "ticket_euro_data['d_stat_longitude'] = ticket_euro_data['d_stat_longitude'].fillna(ticket_euro_data['d_city_longitude'])"
   ]
  },
  {
   "cell_type": "code",
   "execution_count": 25,
   "metadata": {},
   "outputs": [],
   "source": [
    "#création d'une colonne représentant la distance de trajet : \"travel_distance\"\n",
    "#calcul de la distance de trajet entre o_station et d_station grâce aux latitudes et longitudes des stations\n",
    "ticket_euro_data['travel_distance'] = [acos(sin(radians(ticket_euro_data['d_stat_latitude'][i]))*sin(radians(ticket_euro_data['o_stat_latitude'][i]))+cos(radians(ticket_euro_data['d_stat_latitude'][i]))*cos(radians(ticket_euro_data['o_stat_latitude'][i]))*cos(radians(ticket_euro_data['d_stat_longitude'][i]-ticket_euro_data['o_stat_longitude'][i])))*6371 for i in range(74168)]\n"
   ]
  },
  {
   "cell_type": "code",
   "execution_count": 26,
   "metadata": {},
   "outputs": [
    {
     "data": {
      "text/plain": [
       "id                                  int64\n",
       "company                             int64\n",
       "o_station                         float64\n",
       "d_station                         float64\n",
       "departure_ts          datetime64[ns, UTC]\n",
       "arrival_ts            datetime64[ns, UTC]\n",
       "price_in_euro                     float64\n",
       "search_ts                          object\n",
       "middle_stations                    object\n",
       "other_companies                    object\n",
       "o_city                              int64\n",
       "d_city                              int64\n",
       "travel_time               timedelta64[ns]\n",
       "o_stat_unique_name                 object\n",
       "o_stat_latitude                   float64\n",
       "o_stat_longitude                  float64\n",
       "d_stat_unique_name                 object\n",
       "d_stat_latitude                   float64\n",
       "d_stat_longitude                  float64\n",
       "o_city_local_name                  object\n",
       "o_city_unique_name                 object\n",
       "o_city_latitude                   float64\n",
       "o_city_longitude                  float64\n",
       "o_city_population                 float64\n",
       "d_city_local_name                  object\n",
       "d_city_unique_name                 object\n",
       "d_city_latitude                   float64\n",
       "d_city_longitude                  float64\n",
       "d_city_population                 float64\n",
       "travel_distance                   float64\n",
       "dtype: object"
      ]
     },
     "execution_count": 26,
     "metadata": {},
     "output_type": "execute_result"
    }
   ],
   "source": [
    "ticket_euro_data.dtypes"
   ]
  },
  {
   "cell_type": "code",
   "execution_count": 27,
   "metadata": {},
   "outputs": [
    {
     "data": {
      "text/plain": [
       "(74168, 30)"
      ]
     },
     "execution_count": 27,
     "metadata": {},
     "output_type": "execute_result"
    }
   ],
   "source": [
    "ticket_euro_data.shape"
   ]
  },
  {
   "cell_type": "markdown",
   "metadata": {},
   "source": [
    "### d) Catégorisation des dataframes selon la distance de trajet"
   ]
  },
  {
   "cell_type": "code",
   "execution_count": 28,
   "metadata": {},
   "outputs": [
    {
     "data": {
      "text/plain": [
       "(14225, 30)"
      ]
     },
     "execution_count": 28,
     "metadata": {},
     "output_type": "execute_result"
    }
   ],
   "source": [
    "#Création dataframe pour des distances de trajet inférieures ou égales à 200km\n",
    "data_distance_under_200 = ticket_euro_data.loc[ticket_euro_data['travel_distance'] <= 200]\n",
    "data_distance_under_200.shape"
   ]
  },
  {
   "cell_type": "code",
   "execution_count": 29,
   "metadata": {},
   "outputs": [
    {
     "data": {
      "text/plain": [
       "(45135, 30)"
      ]
     },
     "execution_count": 29,
     "metadata": {},
     "output_type": "execute_result"
    }
   ],
   "source": [
    "#Création dataframe pour des distances de trajet compris entre 200km et 500km inclus\n",
    "data_distance_between_200_500 = ticket_euro_data.loc[(ticket_euro_data['travel_distance'] > 200) & (ticket_euro_data['travel_distance'] <= 500) ]\n",
    "data_distance_between_200_500.shape"
   ]
  },
  {
   "cell_type": "code",
   "execution_count": 30,
   "metadata": {},
   "outputs": [
    {
     "data": {
      "text/plain": [
       "(14237, 30)"
      ]
     },
     "execution_count": 30,
     "metadata": {},
     "output_type": "execute_result"
    }
   ],
   "source": [
    "#Création dataframe pour des distances de trajet compris entre 500km et 1000km inclus\n",
    "data_distance_between_500_1000 = ticket_euro_data.loc[(ticket_euro_data['travel_distance'] > 500) & (ticket_euro_data['travel_distance'] <= 1000) ]\n",
    "data_distance_between_500_1000.shape"
   ]
  },
  {
   "cell_type": "code",
   "execution_count": 31,
   "metadata": {},
   "outputs": [
    {
     "data": {
      "text/plain": [
       "1865.4687020000358"
      ]
     },
     "execution_count": 31,
     "metadata": {},
     "output_type": "execute_result"
    }
   ],
   "source": [
    "#Définition de la valeur max pour la distance de trajet\n",
    "max(ticket_euro_data['travel_distance'])"
   ]
  },
  {
   "cell_type": "code",
   "execution_count": 32,
   "metadata": {},
   "outputs": [
    {
     "data": {
      "text/plain": [
       "(571, 30)"
      ]
     },
     "execution_count": 32,
     "metadata": {},
     "output_type": "execute_result"
    }
   ],
   "source": [
    "#Création dataframe pour des distances de trajet compris entre 1000km et la valeur max inclus\n",
    "data_distance_between_1000_max = ticket_euro_data.loc[(ticket_euro_data['travel_distance'] > 1000) & (ticket_euro_data['travel_distance'] <= max(ticket_euro_data['travel_distance']))]\n",
    "data_distance_between_1000_max.shape"
   ]
  },
  {
   "cell_type": "markdown",
   "metadata": {},
   "source": [
    "### e) Jointure des df différenciées selon la distance avec la df providers"
   ]
  },
  {
   "cell_type": "code",
   "execution_count": 33,
   "metadata": {},
   "outputs": [
    {
     "data": {
      "text/plain": [
       "array(['bus', 'car', 'train', 'carpooling'], dtype=object)"
      ]
     },
     "execution_count": 33,
     "metadata": {},
     "output_type": "execute_result"
    }
   ],
   "source": [
    "providers_data.transport_type.unique()"
   ]
  },
  {
   "cell_type": "code",
   "execution_count": 34,
   "metadata": {},
   "outputs": [
    {
     "data": {
      "text/plain": [
       "Index(['id', 'company_id', 'provider_id', 'name', 'fullname', 'has_wifi',\n",
       "       'has_plug', 'has_adjustable_seats', 'has_bicycle', 'transport_type'],\n",
       "      dtype='object')"
      ]
     },
     "execution_count": 34,
     "metadata": {},
     "output_type": "execute_result"
    }
   ],
   "source": [
    "providers_data.columns"
   ]
  },
  {
   "cell_type": "code",
   "execution_count": 35,
   "metadata": {},
   "outputs": [],
   "source": [
    "#suppression des colonnes has_wifi','has_plug','has_adjustable_seats','has_bicycle',\n",
    "#pour éviter de surcharger les dataframes sur lesquelles les jointures seront faites.\n",
    "providers_type_data = providers_data.drop(['has_wifi','has_plug','has_adjustable_seats','has_bicycle'], axis= 1)"
   ]
  },
  {
   "cell_type": "code",
   "execution_count": 36,
   "metadata": {},
   "outputs": [
    {
     "data": {
      "text/plain": [
       "Index(['id', 'company_id', 'provider_id', 'name', 'fullname', 'has_wifi',\n",
       "       'has_plug', 'has_adjustable_seats', 'has_bicycle', 'transport_type'],\n",
       "      dtype='object')"
      ]
     },
     "execution_count": 36,
     "metadata": {},
     "output_type": "execute_result"
    }
   ],
   "source": [
    "providers_data.columns"
   ]
  },
  {
   "cell_type": "code",
   "execution_count": 37,
   "metadata": {},
   "outputs": [
    {
     "data": {
      "text/plain": [
       "Index(['id', 'company_id', 'provider_id', 'name', 'fullname',\n",
       "       'transport_type'],\n",
       "      dtype='object')"
      ]
     },
     "execution_count": 37,
     "metadata": {},
     "output_type": "execute_result"
    }
   ],
   "source": [
    "providers_type_data.columns"
   ]
  },
  {
   "cell_type": "code",
   "execution_count": 38,
   "metadata": {},
   "outputs": [],
   "source": [
    "#modification des noms des colonnes pour une lecture simplifiée, une fois les joins effectués\n",
    "providers_type_data = providers_type_data.rename(columns = {'id':'company','company_id' : 'company_id','provider_id':'provider_id','name':'cpny_name','fullname':'cpny_fullname'})\n"
   ]
  },
  {
   "cell_type": "code",
   "execution_count": 39,
   "metadata": {},
   "outputs": [],
   "source": [
    "#join sur les différents dataframes créées selon la distance de trajet\n",
    "data_distance_under_200 = data_distance_under_200.join(providers_type_data.set_index('company'), on='company')\n",
    "data_distance_between_200_500 = data_distance_between_200_500.join(providers_type_data.set_index('company'), on='company')\n",
    "data_distance_between_500_1000 = data_distance_between_500_1000.join(providers_type_data.set_index('company'), on='company')\n",
    "data_distance_between_1000_max = data_distance_between_1000_max.join(providers_type_data.set_index('company'), on='company')\n"
   ]
  },
  {
   "cell_type": "code",
   "execution_count": 40,
   "metadata": {},
   "outputs": [
    {
     "data": {
      "text/plain": [
       "Index(['id', 'company', 'o_station', 'd_station', 'departure_ts', 'arrival_ts',\n",
       "       'price_in_euro', 'search_ts', 'middle_stations', 'other_companies',\n",
       "       'o_city', 'd_city', 'travel_time', 'o_stat_unique_name',\n",
       "       'o_stat_latitude', 'o_stat_longitude', 'd_stat_unique_name',\n",
       "       'd_stat_latitude', 'd_stat_longitude', 'o_city_local_name',\n",
       "       'o_city_unique_name', 'o_city_latitude', 'o_city_longitude',\n",
       "       'o_city_population', 'd_city_local_name', 'd_city_unique_name',\n",
       "       'd_city_latitude', 'd_city_longitude', 'd_city_population',\n",
       "       'travel_distance', 'company_id', 'provider_id', 'cpny_name',\n",
       "       'cpny_fullname', 'transport_type'],\n",
       "      dtype='object')"
      ]
     },
     "execution_count": 40,
     "metadata": {},
     "output_type": "execute_result"
    }
   ],
   "source": [
    "data_distance_under_200.columns"
   ]
  },
  {
   "cell_type": "markdown",
   "metadata": {},
   "source": [
    "## 3- Analyse sur les distances de trajets"
   ]
  },
  {
   "cell_type": "markdown",
   "metadata": {},
   "source": [
    "### a) Analyse sur les trajets <= 200km"
   ]
  },
  {
   "cell_type": "code",
   "execution_count": 41,
   "metadata": {},
   "outputs": [],
   "source": [
    "#dataframes selon le type de transport pour des trajets <= 200km\n",
    "\n",
    "bus_distance_under_200 = data_distance_under_200.loc[(data_distance_under_200['transport_type'] == 'bus')]\n",
    "train_distance_under_200 = data_distance_under_200.loc[(data_distance_under_200['transport_type'] == 'train')]\n",
    "carpooling_distance_under_200 = data_distance_under_200.loc[(data_distance_under_200['transport_type'] == 'carpooling')]\n"
   ]
  },
  {
   "cell_type": "markdown",
   "metadata": {},
   "source": [
    "##### Durée moyenne et prix moyen en bus"
   ]
  },
  {
   "cell_type": "code",
   "execution_count": 42,
   "metadata": {
    "scrolled": true
   },
   "outputs": [
    {
     "name": "stdout",
     "output_type": "stream",
     "text": [
      "Pour les trajets en bus inférieurs ou égaux à 200km :\n",
      "\n",
      "-temps de trajet moyen: 0 days 10:47:27.083888;\n",
      "-prix moyen approximatif: 21€.\n"
     ]
    }
   ],
   "source": [
    "print(\"Pour les trajets en bus inférieurs ou égaux à 200km :\\n\")\n",
    "print(f\"-temps de trajet moyen: {bus_distance_under_200['travel_time'].mean()};\")\n",
    "print(f\"-prix moyen approximatif: {int(bus_distance_under_200['price_in_euro'].mean())}€.\")\n"
   ]
  },
  {
   "cell_type": "markdown",
   "metadata": {},
   "source": [
    "##### Durée moyenne et prix moyen en train"
   ]
  },
  {
   "cell_type": "code",
   "execution_count": 43,
   "metadata": {},
   "outputs": [
    {
     "name": "stdout",
     "output_type": "stream",
     "text": [
      "Pour les trajets en train inférieurs ou égaux à 200km :\n",
      "\n",
      "-temps de trajet moyen: 0 days 04:21:40.097014;\n",
      "-prix moyen approximatif: 35€.\n"
     ]
    }
   ],
   "source": [
    "print(\"Pour les trajets en train inférieurs ou égaux à 200km :\\n\")\n",
    "print(f\"-temps de trajet moyen: {train_distance_under_200['travel_time'].mean()};\")\n",
    "print(f\"-prix moyen approximatif: {int(train_distance_under_200['price_in_euro'].mean())}€.\")"
   ]
  },
  {
   "cell_type": "markdown",
   "metadata": {},
   "source": [
    "##### Durée moyenne et prix moyen en covoiturage"
   ]
  },
  {
   "cell_type": "code",
   "execution_count": 44,
   "metadata": {},
   "outputs": [
    {
     "name": "stdout",
     "output_type": "stream",
     "text": [
      "Pour les trajets en covoiturage inférieurs ou égaux à 200km :\n",
      "\n",
      "-temps de trajet moyen: 0 days 01:57:07.342427;\n",
      "-prix moyen approximatif: 11€.\n"
     ]
    }
   ],
   "source": [
    "print(\"Pour les trajets en covoiturage inférieurs ou égaux à 200km :\\n\")\n",
    "print(f\"-temps de trajet moyen: {carpooling_distance_under_200['travel_time'].mean()};\")\n",
    "print(f\"-prix moyen approximatif: {int(carpooling_distance_under_200['price_in_euro'].mean())}€.\")"
   ]
  },
  {
   "cell_type": "markdown",
   "metadata": {},
   "source": [
    "### b) Analyse sur les trajets entre 200 et 500km"
   ]
  },
  {
   "cell_type": "code",
   "execution_count": 45,
   "metadata": {},
   "outputs": [],
   "source": [
    "#dataframes selon le type de transport pour des trajets entre 200km et 500km inclus\n",
    "\n",
    "bus_distance_between_200_500 = data_distance_between_200_500.loc[(data_distance_between_200_500['transport_type'] == 'bus')]\n",
    "train_distance_between_200_500 = data_distance_between_200_500.loc[(data_distance_between_200_500['transport_type'] == 'train')]\n",
    "carpooling_distance_between_200_500 = data_distance_between_200_500.loc[(data_distance_between_200_500['transport_type'] == 'carpooling')]\n"
   ]
  },
  {
   "cell_type": "markdown",
   "metadata": {},
   "source": [
    "##### Durée moyenne et prix moyen en bus"
   ]
  },
  {
   "cell_type": "code",
   "execution_count": 46,
   "metadata": {},
   "outputs": [
    {
     "name": "stdout",
     "output_type": "stream",
     "text": [
      "Pour les trajets entre 200km et 500km inclus :\n",
      "\n",
      "-temps de trajet moyen: 0 days 12:41:45.349048;\n",
      "-prix moyen approximatif: 30€.\n"
     ]
    }
   ],
   "source": [
    "print(\"Pour les trajets entre 200km et 500km inclus :\\n\")\n",
    "print(f\"-temps de trajet moyen: {bus_distance_between_200_500['travel_time'].mean()};\")\n",
    "print(f\"-prix moyen approximatif: {int(bus_distance_between_200_500['price_in_euro'].mean())}€.\")"
   ]
  },
  {
   "cell_type": "markdown",
   "metadata": {},
   "source": [
    "##### Durée moyenne et prix moyen en train"
   ]
  },
  {
   "cell_type": "code",
   "execution_count": 47,
   "metadata": {},
   "outputs": [
    {
     "name": "stdout",
     "output_type": "stream",
     "text": [
      "Pour les trajets entre 200km et 500km inclus :\n",
      "\n",
      "-temps de trajet moyen: 0 days 07:06:37.334044;\n",
      "-prix moyen approximatif: 81€.\n"
     ]
    }
   ],
   "source": [
    "print(\"Pour les trajets entre 200km et 500km inclus :\\n\")\n",
    "print(f\"-temps de trajet moyen: {train_distance_between_200_500['travel_time'].mean()};\")\n",
    "print(f\"-prix moyen approximatif: {int(train_distance_between_200_500['price_in_euro'].mean())}€.\")"
   ]
  },
  {
   "cell_type": "markdown",
   "metadata": {},
   "source": [
    "##### Durée moyenne et prix moyen en covoiturage"
   ]
  },
  {
   "cell_type": "code",
   "execution_count": 48,
   "metadata": {},
   "outputs": [
    {
     "name": "stdout",
     "output_type": "stream",
     "text": [
      "Pour les trajets entre 200km et 500km inclus :\n",
      "\n",
      "-temps de trajet moyen: 0 days 04:15:25.440140;\n",
      "-prix moyen approximatif: 28€.\n"
     ]
    }
   ],
   "source": [
    "print(\"Pour les trajets entre 200km et 500km inclus :\\n\")\n",
    "print(f\"-temps de trajet moyen: {carpooling_distance_between_200_500['travel_time'].mean()};\")\n",
    "print(f\"-prix moyen approximatif: {int(carpooling_distance_between_200_500['price_in_euro'].mean())}€.\")"
   ]
  },
  {
   "cell_type": "markdown",
   "metadata": {},
   "source": [
    "### c) Analyse sur les trajets entre 500 et 1000km inclus"
   ]
  },
  {
   "cell_type": "code",
   "execution_count": 49,
   "metadata": {},
   "outputs": [],
   "source": [
    "#dataframes selon le type de transport pour des trajets entre 500km et 1000km inclus\n",
    "\n",
    "bus_distance_between_500_1000 = data_distance_between_500_1000.loc[(data_distance_between_500_1000['transport_type'] == 'bus')]\n",
    "train_distance_between_500_1000 = data_distance_between_500_1000.loc[(data_distance_between_500_1000['transport_type'] == 'train')]\n",
    "carpooling_distance_between_500_1000 = data_distance_between_500_1000.loc[(data_distance_between_500_1000['transport_type'] == 'carpooling')]\n"
   ]
  },
  {
   "cell_type": "markdown",
   "metadata": {},
   "source": [
    "##### Durée moyenne et prix moyen en bus"
   ]
  },
  {
   "cell_type": "code",
   "execution_count": 50,
   "metadata": {},
   "outputs": [
    {
     "name": "stdout",
     "output_type": "stream",
     "text": [
      "Pour les trajets entre 500km et 1000km inclus :\n",
      "\n",
      "-temps de trajet moyen: 0 days 19:15:12.482214;\n",
      "-prix moyen approximatif: 43€.\n"
     ]
    }
   ],
   "source": [
    "print(\"Pour les trajets entre 500km et 1000km inclus :\\n\")\n",
    "print(f\"-temps de trajet moyen: {bus_distance_between_500_1000['travel_time'].mean()};\")\n",
    "print(f\"-prix moyen approximatif: {int(bus_distance_between_500_1000['price_in_euro'].mean())}€.\")\n"
   ]
  },
  {
   "cell_type": "markdown",
   "metadata": {},
   "source": [
    "##### Durée moyenne et prix moyen en train"
   ]
  },
  {
   "cell_type": "code",
   "execution_count": 51,
   "metadata": {},
   "outputs": [
    {
     "name": "stdout",
     "output_type": "stream",
     "text": [
      "Pour les trajets entre 500km et 1000km inclus :\n",
      "\n",
      "-temps de trajet moyen: 0 days 09:24:25.487262;\n",
      "-prix moyen approximatif: 117€.\n"
     ]
    }
   ],
   "source": [
    "print(\"Pour les trajets entre 500km et 1000km inclus :\\n\")\n",
    "print(f\"-temps de trajet moyen: {train_distance_between_500_1000['travel_time'].mean()};\")\n",
    "print(f\"-prix moyen approximatif: {int(train_distance_between_500_1000['price_in_euro'].mean())}€.\")"
   ]
  },
  {
   "cell_type": "markdown",
   "metadata": {},
   "source": [
    "##### Durée moyenne et prix moyen en covoiturage"
   ]
  },
  {
   "cell_type": "code",
   "execution_count": 52,
   "metadata": {},
   "outputs": [
    {
     "name": "stdout",
     "output_type": "stream",
     "text": [
      "Pour les trajets entre 500km et 1000km inclus :\n",
      "\n",
      "-temps de trajet moyen: 0 days 08:17:15.403422;\n",
      "-prix moyen approximatif: 56€.\n"
     ]
    }
   ],
   "source": [
    "print(\"Pour les trajets entre 500km et 1000km inclus :\\n\")\n",
    "print(f\"-temps de trajet moyen: {carpooling_distance_between_500_1000['travel_time'].mean()};\")\n",
    "print(f\"-prix moyen approximatif: {int(carpooling_distance_between_500_1000['price_in_euro'].mean())}€.\")"
   ]
  },
  {
   "cell_type": "markdown",
   "metadata": {},
   "source": [
    "### d) Analyse sur les trajets supérieurs à 1000km"
   ]
  },
  {
   "cell_type": "code",
   "execution_count": 53,
   "metadata": {},
   "outputs": [],
   "source": [
    "#dataframes selon le type de transport pour des trajets entre 500km et 1000km inclus\n",
    "\n",
    "bus_distance_over_1000 = data_distance_between_1000_max.loc[(data_distance_between_1000_max['transport_type'] == 'bus')]\n",
    "train_distance_over_1000 = data_distance_between_1000_max.loc[(data_distance_between_1000_max['transport_type'] == 'train')]\n",
    "carpooling_distance_over_1000 = data_distance_between_1000_max.loc[(data_distance_between_1000_max['transport_type'] == 'carpooling')]\n"
   ]
  },
  {
   "cell_type": "markdown",
   "metadata": {},
   "source": [
    "##### Durée moyenne et prix moyen en bus"
   ]
  },
  {
   "cell_type": "code",
   "execution_count": 54,
   "metadata": {},
   "outputs": [
    {
     "name": "stdout",
     "output_type": "stream",
     "text": [
      "Pour les trajets supérieurs à 1000km :\n",
      "\n",
      "-temps de trajet moyen: 1 days 08:09:41.383647;\n",
      "-prix moyen approximatif: 86€.\n"
     ]
    }
   ],
   "source": [
    "print(\"Pour les trajets supérieurs à 1000km :\\n\")\n",
    "print(f\"-temps de trajet moyen: {bus_distance_over_1000['travel_time'].mean()};\")\n",
    "print(f\"-prix moyen approximatif: {int(bus_distance_over_1000['price_in_euro'].mean())}€.\")"
   ]
  },
  {
   "cell_type": "markdown",
   "metadata": {},
   "source": [
    "##### Durée moyenne et prix moyen en train"
   ]
  },
  {
   "cell_type": "code",
   "execution_count": 55,
   "metadata": {
    "scrolled": true
   },
   "outputs": [
    {
     "name": "stdout",
     "output_type": "stream",
     "text": [
      "Pour les trajets supérieurs à 1000km :\n",
      "\n",
      "-temps de trajet moyen: 0 days 12:02:57.600000;\n",
      "-prix moyen approximatif: 255€.\n"
     ]
    }
   ],
   "source": [
    "print(\"Pour les trajets supérieurs à 1000km :\\n\")\n",
    "print(f\"-temps de trajet moyen: {train_distance_over_1000['travel_time'].mean()};\")\n",
    "print(f\"-prix moyen approximatif: {int(train_distance_over_1000['price_in_euro'].mean())}€.\")"
   ]
  },
  {
   "cell_type": "markdown",
   "metadata": {},
   "source": [
    "#### Durée moyenne et prix moyen en covoiturage"
   ]
  },
  {
   "cell_type": "code",
   "execution_count": 56,
   "metadata": {},
   "outputs": [
    {
     "name": "stdout",
     "output_type": "stream",
     "text": [
      "Pour les trajets supérieurs à 1000km :\n",
      "\n",
      "-temps de trajet moyen: 0 days 17:49:05.454545;\n",
      "-prix moyen approximatif: 110€.\n"
     ]
    }
   ],
   "source": [
    "print(\"Pour les trajets supérieurs à 1000km :\\n\")\n",
    "print(f\"-temps de trajet moyen: {carpooling_distance_over_1000['travel_time'].mean()};\")\n",
    "print(f\"-prix moyen approximatif: {int(carpooling_distance_over_1000['price_in_euro'].mean())}€.\")"
   ]
  },
  {
   "cell_type": "code",
   "execution_count": null,
   "metadata": {},
   "outputs": [],
   "source": []
  }
 ],
 "metadata": {
  "kernelspec": {
   "display_name": "Python 3",
   "language": "python",
   "name": "python3"
  },
  "language_info": {
   "codemirror_mode": {
    "name": "ipython",
    "version": 3
   },
   "file_extension": ".py",
   "mimetype": "text/x-python",
   "name": "python",
   "nbconvert_exporter": "python",
   "pygments_lexer": "ipython3",
   "version": "3.8.3"
  }
 },
 "nbformat": 4,
 "nbformat_minor": 4
}
