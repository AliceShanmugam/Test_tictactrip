{
 "cells": [
  {
   "cell_type": "markdown",
   "metadata": {},
   "source": [
    "### 1- Lecture des fichiers"
   ]
  },
  {
   "cell_type": "markdown",
   "metadata": {},
   "source": [
    "Après avoir pris connaissance des fichiers, mon fil conducteur a été les objectifs pour la réalisation du test.\n",
    "Les données étant réparties sur plusieurs fichiers, j'ai procédé petit à petit, afin de relever les données pertinentes pour chaque question.\n"
   ]
  },
  {
   "cell_type": "markdown",
   "metadata": {},
   "source": [
    "### 2- Transformation de données"
   ]
  },
  {
   "cell_type": "markdown",
   "metadata": {},
   "source": [
    "J'ai transformé certaines données pour plus de lisibilité, par exemple la donnée \"price_in_cents\" en \"price_in_euro\" qui affiche donc les prix des billets en euro.\n",
    "    \n",
    "J'ai également effectué plusieurs jointures grâce aux colonnes identifiables dans d'autres fichiers afin de pouvoir récupérer des données, telles que les longitudes ou latitudes pour calculer la distance entre deux stations.\n",
    "Pour pallier le problème de données manquantes, j'ai substitué les valeurs \"NaN\" par des valeurs connues proches afin de maintenir une justesse des résultats lors de l'analyse des données.\n"
   ]
  },
  {
   "cell_type": "markdown",
   "metadata": {},
   "source": [
    "### 3- Démarches de la réalisation de l'analyse"
   ]
  },
  {
   "cell_type": "markdown",
   "metadata": {},
   "source": [
    "Dans un premier temps, il a fallu examiner la qualités des données, ce que l'on peut exploiter ou non.\n",
    "Ensuite j'ai pu determiner des informations générales telles que le prix minimum, maximum et moyen grâce à la méthode \"describe\".\n",
    "\n",
    "Pour trouver la différence de prix moyen et la durée moyenne selon le moyen de transport et selon la distance de trajet, j'ai réuni sur la même dataframe, les données me permettant de calculer la durée moyenne et le prix du billet moyen selon la distance de trajet : <= 200km / compris entre 200km et 500km inclus / compris entre 500km et 1000km inclus / >= 1000km ."
   ]
  },
  {
   "cell_type": "markdown",
   "metadata": {},
   "source": [
    "### 4- Résultats de l'analyse"
   ]
  },
  {
   "cell_type": "markdown",
   "metadata": {},
   "source": [
    "#### Sur les trajets inférieurs à 200km inclus, les résultats sont les suivants : \n",
    "\n",
    "En bus :\n",
    "-temps de trajet moyen: 0 days 10:47:27.083888;\n",
    "-prix moyen approximatif: 21€.\n",
    "\n",
    "En train :\n",
    "-temps de trajet moyen: 0 days 04:21:40.097014;\n",
    "-prix moyen approximatif: 35€.\n",
    "\n",
    "En covoiturage :\n",
    "-temps de trajet moyen: 0 days 01:57:07.342427;\n",
    "-prix moyen approximatif: 11€.\n",
    "\n",
    "Le covoiturage semble être le meilleur moyen lorsque la distance de trajet est inférieure à 200km, plus rapide et moins cher."
   ]
  },
  {
   "cell_type": "markdown",
   "metadata": {},
   "source": [
    "#### Sur les trajets entre 200km et 500km inclus, les résultats sont les suivants : \n",
    "\n",
    "En bus :\n",
    "-temps de trajet moyen: 0 days 12:41:45.349048;\n",
    "-prix moyen approximatif: 30€.\n",
    "\n",
    "En train :\n",
    "-temps de trajet moyen: 0 days 07:06:37.334044;\n",
    "-prix moyen approximatif: 81€.\n",
    "\n",
    "En covoiturage :\n",
    "-temps de trajet moyen: 0 days 04:15:25.440140;\n",
    "-prix moyen approximatif: 28€.\n",
    "\n",
    "Le covoiturage semble être le meilleur moyen lorsque la distance de trajet est comprise entre 200km et 500km inclus, plus rapide et moins cher."
   ]
  },
  {
   "cell_type": "markdown",
   "metadata": {},
   "source": [
    "####   Sur les trajets entre 500km et 1000km inclus, les résultats sont les suivants : \n",
    "\n",
    "En bus :\n",
    "-temps de trajet moyen: 0 days 19:15:12.482214;\n",
    "-prix moyen approximatif: 43€.\n",
    "\n",
    "En train :\n",
    "-temps de trajet moyen: 0 days 09:24:25.487262;\n",
    "-prix moyen approximatif: 117€.\n",
    "\n",
    "En covoiturage :\n",
    "-temps de trajet moyen: 0 days 08:17:15.403422;\n",
    "-prix moyen approximatif: 56€.\n",
    "\n",
    "Le covoiturage semble être le meilleur moyen lorsque la distance de trajet est comprise entre 500km et 1000km inclus, plus rapide mais un peu plus cher que le bus qui prendrait 11 heures de plus pour arriver à destination."
   ]
  },
  {
   "cell_type": "markdown",
   "metadata": {},
   "source": [
    "####    Sur les trajets supérieurs à 1000km, les résultats sont les suivants : \n",
    "\n",
    "En bus :\n",
    "-temps de trajet moyen: 1 days 08:09:41.383647;\n",
    "-prix moyen approximatif: 86€.\n",
    "\n",
    "En train :\n",
    "-temps de trajet moyen: 0 days 12:02:57.600000;\n",
    "-prix moyen approximatif: 255€.\n",
    "\n",
    "En covoiturage :\n",
    "-temps de trajet moyen: 0 days 17:49:05.454545;\n",
    "-prix moyen approximatif: 110€\n",
    "\n",
    "Cela se discute entre la durée de trajet et le prix, tous deux non negligeables,pour le voyage en train ou en covoiturage dans tous les cas il vaudrait mieux éviter le bus, car il faut compter plus d'une journée de transports :/"
   ]
  },
  {
   "cell_type": "markdown",
   "metadata": {},
   "source": [
    "Attention il ne faut pas négliger les temps d'escales entre la station de départ et la station d'arrivée pour les bus et les trains qui peuvent considérablement rallonger le temps de parcours pour arriver à destination."
   ]
  },
  {
   "cell_type": "markdown",
   "metadata": {},
   "source": [
    "D'une manière générale, sur les données étudiées, il vaut mieux privilégier le covoiturage, bien plus rapide que le bus et moins onéreux que le train. \n",
    "\n",
    "Cependant cela peut soulever des questions liés à l'environnement et empreintes carbone.\n"
   ]
  },
  {
   "cell_type": "code",
   "execution_count": null,
   "metadata": {},
   "outputs": [],
   "source": []
  }
 ],
 "metadata": {
  "kernelspec": {
   "display_name": "Python 3",
   "language": "python",
   "name": "python3"
  },
  "language_info": {
   "codemirror_mode": {
    "name": "ipython",
    "version": 3
   },
   "file_extension": ".py",
   "mimetype": "text/x-python",
   "name": "python",
   "nbconvert_exporter": "python",
   "pygments_lexer": "ipython3",
   "version": "3.8.3"
  }
 },
 "nbformat": 4,
 "nbformat_minor": 4
}
